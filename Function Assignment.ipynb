{
 "cells": [
  {
   "cell_type": "markdown",
   "id": "8c71d81d-c399-4b96-a769-0e4cd05e470d",
   "metadata": {},
   "source": [
    "Q1 Create a Python program to sort the given list of tuples based on integer value using a lambda function.\n",
    "[('Sachin Tendulkar', 34357), ('Ricky Ponting', 27483), ('Jack Kallis', 25534), ('Virat Kohli', 24936)]"
   ]
  },
  {
   "cell_type": "code",
   "execution_count": 1,
   "id": "b21dac26-7de2-464b-9be2-762706d117eb",
   "metadata": {},
   "outputs": [
    {
     "name": "stdout",
     "output_type": "stream",
     "text": [
      "[('Virat Kohli', 24936), ('Jack Kallis', 25534), ('Ricky Ponting', 27483), ('Sachin Tendulkar', 34357)]\n"
     ]
    }
   ],
   "source": [
    "l_tup = [('Sachin Tendulkar', 34357), ('Ricky Ponting', 27483), ('Jack Kallis', 25534), ('Virat Kohli', 24936)]\n",
    "sorted_list = sorted(l_tup, key=lambda x: x[1])\n",
    "print(sorted_list)"
   ]
  },
  {
   "cell_type": "markdown",
   "id": "eb8e440e-be7e-4376-ad8a-fd0d247f5ef9",
   "metadata": {},
   "source": [
    "Q2 Write a Python program to find the squares of all the numbers in the given list of integers using lambda and map functions.\n",
    "[1,2,3,4,5,6,7,8,9,10]"
   ]
  },
  {
   "cell_type": "markdown",
   "id": "b0a27aae-3858-4e12-9c44-69ba7cb061f2",
   "metadata": {},
   "source": [
    "Ans"
   ]
  },
  {
   "cell_type": "code",
   "execution_count": 2,
   "id": "38f42608-c6e5-4c0d-b6c9-1b84fb667721",
   "metadata": {},
   "outputs": [
    {
     "data": {
      "text/plain": [
       "[1, 4, 9, 16, 25, 36, 49, 64, 81, 100]"
      ]
     },
     "execution_count": 2,
     "metadata": {},
     "output_type": "execute_result"
    }
   ],
   "source": [
    "given_list = [1,2,3,4,5,6,7,8,9,10]\n",
    "list(map(lambda input_list: input_list**2, given_list))"
   ]
  },
  {
   "cell_type": "markdown",
   "id": "c1980c31-0204-4d86-b10e-351c0630e4d8",
   "metadata": {},
   "source": [
    "Q3 Write a Python program to convert the given list of integers into a tuple of strings. Use map and lambda functions.\n",
    "Given List: [1,2,3,4,5,6,7,8,9,10]\n",
    "Expected Output: ('1', '2', '3', '4', '5', '6', '7', '8', '9', '10')"
   ]
  },
  {
   "cell_type": "markdown",
   "id": "b48cf8da-3969-40b6-b90d-b9d5d975ea2a",
   "metadata": {},
   "source": [
    "Ans"
   ]
  },
  {
   "cell_type": "code",
   "execution_count": 3,
   "id": "e9fd94a8-a665-4feb-9c18-b6f323506ec4",
   "metadata": {},
   "outputs": [
    {
     "data": {
      "text/plain": [
       "('1', '2', '3', '4', '5', '6', '7', '8', '9', '10')"
      ]
     },
     "execution_count": 3,
     "metadata": {},
     "output_type": "execute_result"
    }
   ],
   "source": [
    "given_list = [1,2,3,4,5,6,7,8,9,10]\n",
    "tuple(map(lambda input_list: str(input_list), given_list))"
   ]
  },
  {
   "cell_type": "markdown",
   "id": "b8da2171-cb5f-444a-98c0-e9a9f90b5f58",
   "metadata": {},
   "source": [
    "Q4 Write a Python program using reduce function to compute the product of a list containing numbers from 1 to 25."
   ]
  },
  {
   "cell_type": "markdown",
   "id": "ebc8814f-cd1a-4267-8d76-3743e06ce8d4",
   "metadata": {},
   "source": [
    "Ans"
   ]
  },
  {
   "cell_type": "code",
   "execution_count": 4,
   "id": "0af2d8b7-ebe8-45f9-a3ec-d5c55d6d892b",
   "metadata": {},
   "outputs": [
    {
     "data": {
      "text/plain": [
       "15511210043330985984000000"
      ]
     },
     "execution_count": 4,
     "metadata": {},
     "output_type": "execute_result"
    }
   ],
   "source": [
    "from functools import reduce\n",
    "given_list = list(range(1,26))\n",
    "reduce(lambda x,y: x*y, given_list)"
   ]
  },
  {
   "cell_type": "markdown",
   "id": "065947b6-8698-4e55-b9bd-d702209b788a",
   "metadata": {},
   "source": [
    "Q5 Write a Python program to filter the numbers in a given list that are divisible by 2 and 3 using the filter function.\n",
    "[2,3,6,9,27,60,90,120,55,46]"
   ]
  },
  {
   "cell_type": "markdown",
   "id": "457d2496-70cf-48a5-b4c4-438674ad4747",
   "metadata": {},
   "source": [
    "Ans"
   ]
  },
  {
   "cell_type": "code",
   "execution_count": 5,
   "id": "4ba83bb8-1912-4d7b-b3f5-936c997ede84",
   "metadata": {},
   "outputs": [
    {
     "data": {
      "text/plain": [
       "[6, 60, 90, 120]"
      ]
     },
     "execution_count": 5,
     "metadata": {},
     "output_type": "execute_result"
    }
   ],
   "source": [
    "given_list = [2,3,6,9,27,60,90,120,55,46]\n",
    "list(filter(lambda input_list: input_list%3==0 and input_list%2==0, given_list))"
   ]
  },
  {
   "cell_type": "markdown",
   "id": "21d41f16-267e-495d-a75f-70d937aac2ec",
   "metadata": {},
   "source": [
    "Q6 Write a Python program to find palindromes in the given list of strings using lambda and filter function.\n",
    "['python', 'php', 'aba', 'radar', 'level']"
   ]
  },
  {
   "cell_type": "markdown",
   "id": "1500a9a4-660f-44e1-b144-692635b6a7ca",
   "metadata": {},
   "source": [
    "Ans"
   ]
  },
  {
   "cell_type": "code",
   "execution_count": null,
   "id": "630ac1af-5f0d-4a1f-adff-6c33f7e1c9af",
   "metadata": {},
   "outputs": [],
   "source": [
    "given_list = ['python', 'php', 'aba', 'radar', 'level']\n",
    "list(filter(lambda input_list: input_list[::-1] == input_list, given_list))"
   ]
  }
 ],
 "metadata": {
  "kernelspec": {
   "display_name": "Python 3 (ipykernel)",
   "language": "python",
   "name": "python3"
  },
  "language_info": {
   "codemirror_mode": {
    "name": "ipython",
    "version": 3
   },
   "file_extension": ".py",
   "mimetype": "text/x-python",
   "name": "python",
   "nbconvert_exporter": "python",
   "pygments_lexer": "ipython3",
   "version": "3.10.8"
  }
 },
 "nbformat": 4,
 "nbformat_minor": 5
}
